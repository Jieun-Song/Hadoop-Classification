{
 "cells": [
  {
   "cell_type": "markdown",
   "metadata": {},
   "source": [
    "1) seodaemun_retaurant_200.json to csv converter"
   ]
  },
  {
   "cell_type": "code",
   "execution_count": 5,
   "metadata": {},
   "outputs": [
    {
     "name": "stdout",
     "output_type": "stream",
     "text": [
      "끝!\n"
     ]
    }
   ],
   "source": [
    "import pandas as pd\n",
    "import json\n",
    "\n",
    "json_data = './data/seodaemun_restaurant_200.json'\n",
    "raw_data = pd.read_json(json_data)\n",
    "df = pd.DataFrame(raw_data)\n",
    "df.to_csv('./data/seodaemun_retaurant_200.csv', index=False, encoding='utf-8')\n",
    "print('끝!')"
   ]
  },
  {
   "cell_type": "markdown",
   "metadata": {},
   "source": [
    "2. gangnamOutput.csv name분리"
   ]
  },
  {
   "cell_type": "code",
   "execution_count": null,
   "metadata": {},
   "outputs": [
    {
     "name": "stdout",
     "output_type": "stream",
     "text": [
      "CSV 파일 컬럼 분리 및 저장 완료!\n"
     ]
    }
   ],
   "source": [
    "df = pd.read_csv('/Users/junho/Hadoop-Classification/data/crawling/gangnamOutput.csv')\n",
    "\n",
    "df[['region', 'name']] = df['name'].str.extract(r'\\[(.*?)\\]\\s*(.*)')\n",
    "\n",
    "df = df[['region', 'name', 'link']]\n",
    "\n",
    "df.to_csv('/Users/junho/Hadoop-Classification/data/crawling/gangnamOutput-modify.csv', index=False, encoding='utf-8-sig')\n",
    "\n",
    "print(\"CSV 파일 컬럼 분리 및 저장 완료!\")\n"
   ]
  },
  {
   "cell_type": "code",
   "execution_count": null,
   "metadata": {},
   "outputs": [],
   "source": []
  }
 ],
 "metadata": {
  "kernelspec": {
   "display_name": "base",
   "language": "python",
   "name": "python3"
  },
  "language_info": {
   "codemirror_mode": {
    "name": "ipython",
    "version": 3
   },
   "file_extension": ".py",
   "mimetype": "text/x-python",
   "name": "python",
   "nbconvert_exporter": "python",
   "pygments_lexer": "ipython3",
   "version": "3.11.4"
  }
 },
 "nbformat": 4,
 "nbformat_minor": 2
}
