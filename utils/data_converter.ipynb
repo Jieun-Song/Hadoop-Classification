{
 "cells": [
  {
   "cell_type": "markdown",
   "metadata": {},
   "source": [
    "1) seodaemun_retaurant_200.json to csv converter"
   ]
  },
  {
   "cell_type": "code",
   "execution_count": 5,
   "metadata": {},
   "outputs": [
    {
     "name": "stdout",
     "output_type": "stream",
     "text": [
      "끝!\n"
     ]
    }
   ],
   "source": [
    "import pandas as pd\n",
    "import json\n",
    "\n",
    "json_data = './data/seodaemun_restaurant_200.json'\n",
    "raw_data = pd.read_json(json_data)\n",
    "df = pd.DataFrame(raw_data)\n",
    "df.to_csv('./data/seodaemun_retaurant_200.csv', index=False, encoding='utf-8')\n",
    "print('끝!')"
   ]
  },
  {
   "cell_type": "markdown",
   "metadata": {},
   "source": [
    "2. gangnamOutput.csv name분리"
   ]
  },
  {
   "cell_type": "code",
   "execution_count": null,
   "metadata": {},
   "outputs": [
    {
     "name": "stdout",
     "output_type": "stream",
     "text": [
      "CSV 파일 컬럼 분리 및 저장 완료!\n"
     ]
    }
   ],
   "source": [
    "df = pd.read_csv('/Users/junho/Hadoop-Classification/data/crawling/gangnamOutput.csv')\n",
    "\n",
    "df[['region', 'name']] = df['name'].str.extract(r'\\[(.*?)\\]\\s*(.*)')\n",
    "\n",
    "df = df[['region', 'name', 'link']]\n",
    "\n",
    "df.to_csv('/Users/junho/Hadoop-Classification/data/crawling/gangnamOutput-modify.csv', index=False, encoding='utf-8-sig')\n",
    "\n",
    "print(\"CSV 파일 컬럼 분리 및 저장 완료!\")\n"
   ]
  },
  {
   "cell_type": "code",
   "execution_count": 10,
   "metadata": {},
   "outputs": [
    {
     "name": "stdout",
     "output_type": "stream",
     "text": [
      "파일 변환 완료: /Users/junho/Hadoop-Classification/data/crawling/naver_blogs_detail_A.json -> /Users/junho/Hadoop-Classification/data/crawling/blog-review/naver_blogs_detail_A.csv\n",
      "파일 변환 완료: /Users/junho/Hadoop-Classification/data/crawling/naver_blogs_detail_B.json -> /Users/junho/Hadoop-Classification/data/crawling/blog-review/naver_blogs_detail_B.csv\n",
      "파일 변환 완료: /Users/junho/Hadoop-Classification/data/crawling/naver_blogs_detail_C.json -> /Users/junho/Hadoop-Classification/data/crawling/blog-review/naver_blogs_detail_C.csv\n",
      "파일 변환 완료: /Users/junho/Hadoop-Classification/data/crawling/naver_blogs_detail_D.json -> /Users/junho/Hadoop-Classification/data/crawling/blog-review/naver_blogs_detail_D.csv\n",
      "파일 변환 완료: /Users/junho/Hadoop-Classification/data/crawling/naver_blogs_detail_E.json -> /Users/junho/Hadoop-Classification/data/crawling/blog-review/naver_blogs_detail_E.csv\n",
      "모든 파일 변환 완료!\n"
     ]
    }
   ],
   "source": [
    "import pandas as pd\n",
    "import json\n",
    "import os\n",
    "\n",
    "# 파일 이름의 공통 부분\n",
    "base_path = '/Users/junho/Hadoop-Classification/data/crawling/'  # JSON 파일 디렉토리\n",
    "output_base_path = '/Users/junho/Hadoop-Classification/data/crawling/blog-review/'  # CSV 파일 저장 디렉토리\n",
    "file_prefix = 'naver_blogs_detail_'\n",
    "\n",
    "# 결과 저장 경로 디렉토리 확인 및 생성\n",
    "os.makedirs(output_base_path, exist_ok=True)\n",
    "\n",
    "# A부터 E까지 반복\n",
    "for letter in ['A', 'B', 'C', 'D', 'E']:\n",
    "    # 파일 이름 생성\n",
    "    json_file = f\"{base_path}{file_prefix}{letter}.json\"\n",
    "    csv_file = f\"{output_base_path}{file_prefix}{letter}.csv\"\n",
    "    \n",
    "    try:\n",
    "        # JSON 파일 읽기\n",
    "        raw_data = pd.read_json(json_file)\n",
    "        df = pd.DataFrame(raw_data)\n",
    "        \n",
    "        # CSV 파일로 저장\n",
    "        df.to_csv(csv_file, index=False, encoding='utf-8')\n",
    "        print(f\"파일 변환 완료: {json_file} -> {csv_file}\")\n",
    "    except Exception as e:\n",
    "        print(f\"오류 발생: {json_file} 처리 중 오류 - {str(e)}\")\n",
    "\n",
    "print('모든 파일 변환 완료!')\n"
   ]
  },
  {
   "cell_type": "code",
   "execution_count": null,
   "metadata": {},
   "outputs": [],
   "source": []
  }
 ],
 "metadata": {
  "kernelspec": {
   "display_name": "base",
   "language": "python",
   "name": "python3"
  },
  "language_info": {
   "codemirror_mode": {
    "name": "ipython",
    "version": 3
   },
   "file_extension": ".py",
   "mimetype": "text/x-python",
   "name": "python",
   "nbconvert_exporter": "python",
   "pygments_lexer": "ipython3",
   "version": "3.11.4"
  }
 },
 "nbformat": 4,
 "nbformat_minor": 2
}
