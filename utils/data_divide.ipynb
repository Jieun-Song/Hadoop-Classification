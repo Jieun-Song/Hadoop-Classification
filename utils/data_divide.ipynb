{
 "cells": [
  {
   "cell_type": "code",
   "execution_count": 2,
   "metadata": {},
   "outputs": [],
   "source": [
    "import csv\n",
    "\n",
    "def split_csv_file(input_file, output_file1, output_file2):\n",
    "    # CSV 파일 읽기\n",
    "    with open(input_file, 'r', newline='', encoding='utf-8') as infile:\n",
    "        reader = list(csv.reader(infile))\n",
    "        header = reader[0]  # 헤더 추출\n",
    "        rows = reader[1:]   # 데이터 추출\n",
    "        \n",
    "        # 데이터 반으로 나누기\n",
    "        mid_index = len(rows) // 2\n",
    "        part1 = rows[:mid_index]\n",
    "        part2 = rows[mid_index:]\n",
    "    \n",
    "    # 첫 번째 부분 저장\n",
    "    with open(output_file1, 'w', newline='', encoding='utf-8') as outfile1:\n",
    "        writer = csv.writer(outfile1)\n",
    "        writer.writerow(header)  # 헤더 쓰기\n",
    "        writer.writerows(part1)  # 데이터 쓰기\n",
    "    \n",
    "    # 두 번째 부분 저장\n",
    "    with open(output_file2, 'w', newline='', encoding='utf-8') as outfile2:\n",
    "        writer = csv.writer(outfile2)\n",
    "        writer.writerow(header)  # 헤더 쓰기\n",
    "        writer.writerows(part2)  # 데이터 쓰기\n",
    "\n",
    "# 예제 사용\n",
    "input_file = '/Users/junho/Hadoop-Classification/data/crawling/blog-review/naver_blogs_detail_2.csv'  # 입력 파일 이름\n",
    "output_file1 = '/Users/junho/Hadoop-Classification/data/crawling/blog-review/naver_blogs_detail_2_1.csv'  # 첫 번째 출력 파일\n",
    "output_file2 = '/Users/junho/Hadoop-Classification/data/crawling/blog-review/naver_blogs_detail_2_2.csv'  # 두 번째 출력 파일\n",
    "\n",
    "split_csv_file(input_file, output_file1, output_file2)\n"
   ]
  },
  {
   "cell_type": "code",
   "execution_count": 3,
   "metadata": {},
   "outputs": [],
   "source": [
    "input_file = '/Users/junho/Hadoop-Classification/data/crawling/blog-review/naver_blogs_detail_2_1.csv'  # 입력 파일 이름\n",
    "output_file1 = '/Users/junho/Hadoop-Classification/data/crawling/blog-review/naver_blogs_detail_2_1_1.csv'  # 첫 번째 출력 파일\n",
    "output_file2 = '/Users/junho/Hadoop-Classification/data/crawling/blog-review/naver_blogs_detail_2_1_2.csv'  # 두 번째 출력 파일\n",
    "\n",
    "split_csv_file(input_file, output_file1, output_file2)"
   ]
  },
  {
   "cell_type": "code",
   "execution_count": 4,
   "metadata": {},
   "outputs": [],
   "source": [
    "input_file = '/Users/junho/Hadoop-Classification/data/crawling/blog-review/naver_blogs_detail_2_2.csv'  # 입력 파일 이름\n",
    "output_file1 = '/Users/junho/Hadoop-Classification/data/crawling/blog-review/naver_blogs_detail_2_2_1.csv'  # 첫 번째 출력 파일\n",
    "output_file2 = '/Users/junho/Hadoop-Classification/data/crawling/blog-review/naver_blogs_detail_2_2_2.csv'  # 두 번째 출력 파일\n",
    "\n",
    "split_csv_file(input_file, output_file1, output_file2)"
   ]
  },
  {
   "cell_type": "code",
   "execution_count": null,
   "metadata": {},
   "outputs": [],
   "source": []
  }
 ],
 "metadata": {
  "kernelspec": {
   "display_name": "Python 3",
   "language": "python",
   "name": "python3"
  },
  "language_info": {
   "codemirror_mode": {
    "name": "ipython",
    "version": 3
   },
   "file_extension": ".py",
   "mimetype": "text/x-python",
   "name": "python",
   "nbconvert_exporter": "python",
   "pygments_lexer": "ipython3",
   "version": "3.11.9"
  }
 },
 "nbformat": 4,
 "nbformat_minor": 2
}
