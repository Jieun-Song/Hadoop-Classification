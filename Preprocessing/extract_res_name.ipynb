{
 "cells": [
  {
   "cell_type": "code",
   "execution_count": 6,
   "metadata": {},
   "outputs": [],
   "source": [
    "DATA_PATH = \"data/crawling/서울_강남_식당.csv\"\n",
    "RESULT_PATH = \"Preprocessing/result\"\n",
    "\n",
    "import re\n",
    "import pandas as pd"
   ]
  },
  {
   "cell_type": "code",
   "execution_count": 14,
   "metadata": {},
   "outputs": [
    {
     "data": {
      "text/html": [
       "<div>\n",
       "<style scoped>\n",
       "    .dataframe tbody tr th:only-of-type {\n",
       "        vertical-align: middle;\n",
       "    }\n",
       "\n",
       "    .dataframe tbody tr th {\n",
       "        vertical-align: top;\n",
       "    }\n",
       "\n",
       "    .dataframe thead th {\n",
       "        text-align: right;\n",
       "    }\n",
       "</style>\n",
       "<table border=\"1\" class=\"dataframe\">\n",
       "  <thead>\n",
       "    <tr style=\"text-align: right;\">\n",
       "      <th></th>\n",
       "      <th>title</th>\n",
       "      <th>res_name</th>\n",
       "    </tr>\n",
       "  </thead>\n",
       "  <tbody>\n",
       "    <tr>\n",
       "      <th>0</th>\n",
       "      <td>압구정 강남 루프탑 프라이빗 룸이 있는 분위기 데이트 코스 주차 가능 이자카야 수다...</td>\n",
       "      <td>압구정 강남 루프탑 프라이빗 룸이 있는 분위기 데이트 코스 주차 가능 이자카야 수다...</td>\n",
       "    </tr>\n",
       "    <tr>\n",
       "      <th>1</th>\n",
       "      <td>[강남/청담] 수다청담점, 분위기 좋은 압구정로데오역 이자카야</td>\n",
       "      <td>수다청담점</td>\n",
       "    </tr>\n",
       "    <tr>\n",
       "      <th>2</th>\n",
       "      <td>[청담/압구정로데오/강남구청] 프라이빗 룸이 있는 안주맛집, 회식&amp;모임에 제격인 \"...</td>\n",
       "      <td>수다 청담점</td>\n",
       "    </tr>\n",
       "    <tr>\n",
       "      <th>3</th>\n",
       "      <td>[강남맛집] 압구정로데오술집 \"수다 청담점\"_분위기 좋은 압구정 루프탑 이자카야.</td>\n",
       "      <td>수다 청담점</td>\n",
       "    </tr>\n",
       "    <tr>\n",
       "      <th>4</th>\n",
       "      <td>[강남] 모든 재료가 신선한 술이 술술들어가는 :이자카야수다 청담점</td>\n",
       "      <td>이자카야수다 청담점</td>\n",
       "    </tr>\n",
       "  </tbody>\n",
       "</table>\n",
       "</div>"
      ],
      "text/plain": [
       "                                               title  \\\n",
       "0  압구정 강남 루프탑 프라이빗 룸이 있는 분위기 데이트 코스 주차 가능 이자카야 수다...   \n",
       "1                 [강남/청담] 수다청담점, 분위기 좋은 압구정로데오역 이자카야   \n",
       "2  [청담/압구정로데오/강남구청] 프라이빗 룸이 있는 안주맛집, 회식&모임에 제격인 \"...   \n",
       "3      [강남맛집] 압구정로데오술집 \"수다 청담점\"_분위기 좋은 압구정 루프탑 이자카야.   \n",
       "4              [강남] 모든 재료가 신선한 술이 술술들어가는 :이자카야수다 청담점   \n",
       "\n",
       "                                            res_name  \n",
       "0  압구정 강남 루프탑 프라이빗 룸이 있는 분위기 데이트 코스 주차 가능 이자카야 수다...  \n",
       "1                                              수다청담점  \n",
       "2                                             수다 청담점  \n",
       "3                                             수다 청담점  \n",
       "4                                         이자카야수다 청담점  "
      ]
     },
     "execution_count": 14,
     "metadata": {},
     "output_type": "execute_result"
    }
   ],
   "source": [
    "# 정규식 패턴 정의 (가게 이름은 일반적으로 한글로 시작하고 끝나는 패턴)\n",
    "def extract_res_name(title):\n",
    "    match = re.search(r'([가-힣]+(?:\\s?[가-힣]+)*점)', title)  # '점'으로 끝나는 한글 단어 추출\n",
    "    if match:\n",
    "        return match.group(0)\n",
    "    return None\n",
    "\n",
    "# 'title' 컬럼에서 가게 이름 추출하여 'res_name' 컬럼 추가\n",
    "df = df.head(10)\n",
    "df['res_name'] = df['title'].apply(extract_res_name)\n",
    "\n",
    "# 결과 확인\n",
    "df[['title', 'res_name']].head()"
   ]
  },
  {
   "cell_type": "code",
   "execution_count": 17,
   "metadata": {},
   "outputs": [
    {
     "name": "stdout",
     "output_type": "stream",
     "text": [
      "강남_blog_review\n"
     ]
    }
   ],
   "source": [
    "import os\n",
    "\n",
    "# 파일 경로\n",
    "file_path = 'data/crawling/blog-review/강남_blog_review.csv'\n",
    "\n",
    "# 경로에서 파일명 추출 후 '.csv' 확장자 제거\n",
    "file_name_without_extension = os.path.splitext(os.path.basename(file_path))[0]\n",
    "\n",
    "# 결과 출력\n",
    "print(file_name_without_extension) "
   ]
  },
  {
   "cell_type": "code",
   "execution_count": null,
   "metadata": {},
   "outputs": [],
   "source": []
  },
  {
   "cell_type": "code",
   "execution_count": null,
   "metadata": {},
   "outputs": [],
   "source": []
  },
  {
   "cell_type": "code",
   "execution_count": null,
   "metadata": {},
   "outputs": [],
   "source": []
  },
  {
   "cell_type": "code",
   "execution_count": null,
   "metadata": {},
   "outputs": [],
   "source": []
  }
 ],
 "metadata": {
  "kernelspec": {
   "display_name": "base",
   "language": "python",
   "name": "python3"
  },
  "language_info": {
   "codemirror_mode": {
    "name": "ipython",
    "version": 3
   },
   "file_extension": ".py",
   "mimetype": "text/x-python",
   "name": "python",
   "nbconvert_exporter": "python",
   "pygments_lexer": "ipython3",
   "version": "3.12.4"
  }
 },
 "nbformat": 4,
 "nbformat_minor": 2
}
